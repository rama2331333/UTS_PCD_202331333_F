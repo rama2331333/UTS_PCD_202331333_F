{
 "cells": [
  {
   "cell_type": "markdown",
   "id": "88f3da81",
   "metadata": {},
   "source": [
    "# Ambang Batas"
   ]
  },
  {
   "cell_type": "markdown",
   "id": "0f961f4a",
   "metadata": {},
   "source": [
    "# Import Library"
   ]
  },
  {
   "cell_type": "code",
   "execution_count": 1,
   "id": "dfbb6453",
   "metadata": {},
   "outputs": [],
   "source": [
    "import cv2\n",
    "import numpy as np\n",
    "import matplotlib.pyplot as plt"
   ]
  },
  {
   "cell_type": "markdown",
   "id": "287bd592",
   "metadata": {},
   "source": [
    "## Membaca Gambar"
   ]
  },
  {
   "cell_type": "code",
   "execution_count": 2,
   "id": "4e3af44a",
   "metadata": {},
   "outputs": [],
   "source": [
    "image_path = 'cek_rgb.jpeg'\n",
    "image = cv2.imread(image_path)"
   ]
  },
  {
   "cell_type": "markdown",
   "id": "9711f4ef",
   "metadata": {},
   "source": [
    "## Mengkonversi dari BGR ke RGB"
   ]
  },
  {
   "cell_type": "code",
   "execution_count": 3,
   "id": "30acfd72",
   "metadata": {},
   "outputs": [],
   "source": [
    "image_rgb = cv2.cvtColor(image, cv2.COLOR_BGR2RGB)\n",
    "baris, kolom, _ = image_rgb.shape"
   ]
  },
  {
   "cell_type": "markdown",
   "id": "14fa9301",
   "metadata": {},
   "source": [
    "## Mengkontraskan Citra"
   ]
  },
  {
   "cell_type": "code",
   "execution_count": 4,
   "id": "3c10e6fa",
   "metadata": {},
   "outputs": [],
   "source": [
    "alpha = 1.4  # Peningkatan kontras untuk kejelasan\n",
    "citra_kontras = np.zeros((baris, kolom, 3))\n",
    "\n",
    "for x in range(baris):\n",
    "    for y in range(kolom):\n",
    "        gyx = image_rgb[x, y] * alpha\n",
    "        citra_kontras[x, y] = np.clip(gyx, 0, 255)\n",
    "\n",
    "citra_kontras = citra_kontras.astype(np.uint8)"
   ]
  },
  {
   "cell_type": "markdown",
   "id": "39de6995",
   "metadata": {},
   "source": [
    "## Fungsi untuk menghasilkan citra biner berdasarkan kategori"
   ]
  },
  {
   "cell_type": "code",
   "execution_count": 9,
   "id": "ab160f40",
   "metadata": {},
   "outputs": [],
   "source": [
    "def generate_binary_image(citra_kontras, kategori):\n",
    "    # Threshold untuk masing-masing kanal warna\n",
    "    blue_thresh = 130\n",
    "    red_thresh = 130\n",
    "    green_thresh = 130\n",
    "    \n",
    "    # Mendapatkan kanal warna\n",
    "    blue_channel = citra_kontras[:, :, 2]\n",
    "    green_channel = citra_kontras[:, :, 1]\n",
    "    red_channel = citra_kontras[:, :, 0]\n",
    "    \n",
    "    # Inisialisasi citra biner\n",
    "    binary_image = np.zeros((baris, kolom), dtype=np.uint8)\n",
    "\n",
    "    # Masking berdasarkan kategori\n",
    "    if kategori == \"none\":\n",
    "        pass  # Semua tetap hitam\n",
    "\n",
    "    elif kategori == \"blue\":\n",
    "        mask = (blue_channel > blue_thresh) & (red_channel <= red_thresh) & (green_channel <= green_thresh)\n",
    "        binary_image[mask] = 255\n",
    "\n",
    "    elif kategori == \"red-blue\":\n",
    "        mask = ((blue_channel > blue_thresh) & (red_channel <= red_thresh) & (green_channel <= green_thresh)) | \\\n",
    "               ((red_channel > red_thresh) & (blue_channel <= blue_thresh) & (green_channel <= green_thresh))\n",
    "        binary_image[mask] = 255\n",
    "\n",
    "    elif kategori == \"red-green-blue\":\n",
    "        green_thresh_hijau = 110\n",
    "        mask_blue = (blue_channel > blue_thresh) & (red_channel <= red_thresh) & (green_channel <= green_thresh)\n",
    "        mask_red = (red_channel > red_thresh) & (blue_channel <= blue_thresh) & (green_channel <= green_thresh)\n",
    "        mask_green = (green_channel > green_thresh_hijau) & (red_channel <= red_thresh) & (blue_channel <= blue_thresh)\n",
    "        mask = mask_blue | mask_red | mask_green\n",
    "        binary_image[mask] = 255\n",
    "\n",
    "    return binary_image"
   ]
  },
  {
   "cell_type": "markdown",
   "id": "cee122f1",
   "metadata": {},
   "source": [
    "## Menampilkan Semua Hasil"
   ]
  },
  {
   "cell_type": "code",
   "execution_count": 10,
   "id": "bfcc81a6",
   "metadata": {},
   "outputs": [
    {
     "data": {
      "image/png": "[encoded data removed]",
      "text/plain": [
       "<Figure size 864x576 with 4 Axes>"
      ]
     },
     "metadata": {
      "needs_background": "light"
     },
     "output_type": "display_data"
    }
   ],
   "source": [
    "fig, axes = plt.subplots(2, 2, figsize=(12, 8))\n",
    "\n",
    "# Kategori: none\n",
    "binary_none = generate_binary_image(citra_kontras, \"none\")\n",
    "axes[0, 0].imshow(binary_none, cmap='gray')\n",
    "axes[0, 0].set_title(\"Kategori: none\")\n",
    "\n",
    "# Kategori: blue\n",
    "binary_blue = generate_binary_image(citra_kontras, \"blue\")\n",
    "axes[0, 1].imshow(binary_blue, cmap='gray')\n",
    "axes[0, 1].set_title(\"Kategori: blue\")\n",
    "\n",
    "# Kategori: red-blue\n",
    "binary_red_blue = generate_binary_image(citra_kontras, \"red-blue\")\n",
    "axes[1, 0].imshow(binary_red_blue, cmap='gray')\n",
    "axes[1, 0].set_title(\"Kategori: red-blue\")\n",
    "\n",
    "# Kategori: red-green-blue\n",
    "binary_rgb = generate_binary_image(citra_kontras, \"red-green-blue\")\n",
    "axes[1, 1].imshow(binary_rgb, cmap='gray')\n",
    "axes[1, 1].set_title(\"Kategori: red-green-blue\")\n",
    "\n",
    "plt.tight_layout()\n",
    "plt.show()"
   ]
  },
  {
   "cell_type": "code",
   "execution_count": null,
   "id": "a57f810a",
   "metadata": {},
   "outputs": [],
   "source": []
  },
  {
   "cell_type": "code",
   "execution_count": null,
   "id": "b37cf94b",
   "metadata": {},
   "outputs": [],
   "source": []
  }
 ],
 "metadata": {
  "kernelspec": {
   "display_name": "Python 3",
   "language": "python",
   "name": "python3"
  },
  "language_info": {
   "codemirror_mode": {
    "name": "ipython",
    "version": 3
   },
   "file_extension": ".py",
   "mimetype": "text/x-python",
   "name": "python",
   "nbconvert_exporter": "python",
   "pygments_lexer": "ipython3",
   "version": "3.8.8"
  }
 },
 "nbformat": 4,
 "nbformat_minor": 5
}
